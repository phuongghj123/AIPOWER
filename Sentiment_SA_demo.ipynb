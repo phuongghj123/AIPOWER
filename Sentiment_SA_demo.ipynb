{
  "nbformat": 4,
  "nbformat_minor": 0,
  "metadata": {
    "colab": {
      "name": "Sentiment_SA_demo.ipynb",
      "provenance": [],
      "collapsed_sections": []
    },
    "kernelspec": {
      "name": "python3",
      "display_name": "Python 3"
    },
    "language_info": {
      "name": "python"
    }
  },
  "cells": [
    {
      "cell_type": "code",
      "metadata": {
        "colab": {
          "base_uri": "https://localhost:8080/"
        },
        "id": "NnBu8nA67iER",
        "outputId": "ba6d0aaf-d866-4806-dd5b-c2e5f9a61c0f"
      },
      "source": [
        "!pip install underthesea"
      ],
      "execution_count": 2,
      "outputs": [
        {
          "output_type": "stream",
          "text": [
            "Collecting underthesea\n",
            "\u001b[?25l  Downloading https://files.pythonhosted.org/packages/a8/5f/03ab9091b88e7851aa92da33f8eea6f111423cc1194cf1636c63c1fff3d0/underthesea-1.3.1-py3-none-any.whl (7.5MB)\n",
            "\u001b[K     |████████████████████████████████| 7.5MB 8.8MB/s \n",
            "\u001b[?25hRequirement already satisfied: PyYAML in /usr/local/lib/python3.7/dist-packages (from underthesea) (3.13)\n",
            "Collecting python-crfsuite>=0.9.6\n",
            "\u001b[?25l  Downloading https://files.pythonhosted.org/packages/79/47/58f16c46506139f17de4630dbcfb877ce41a6355a1bbf3c443edb9708429/python_crfsuite-0.9.7-cp37-cp37m-manylinux1_x86_64.whl (743kB)\n",
            "\u001b[K     |████████████████████████████████| 747kB 44.2MB/s \n",
            "\u001b[?25hRequirement already satisfied: Click>=6.0 in /usr/local/lib/python3.7/dist-packages (from underthesea) (7.1.2)\n",
            "Requirement already satisfied: scikit-learn in /usr/local/lib/python3.7/dist-packages (from underthesea) (0.22.2.post1)\n",
            "Collecting torch<=1.5.1,>=1.1.0\n",
            "\u001b[?25l  Downloading https://files.pythonhosted.org/packages/a4/cf/007b6de316c9f3d4cb315a60c308342cc299e464167f5ebc369e93b5e23a/torch-1.5.1-cp37-cp37m-manylinux1_x86_64.whl (753.2MB)\n",
            "\u001b[K     |████████████████████████████████| 753.2MB 22kB/s \n",
            "\u001b[?25hRequirement already satisfied: joblib in /usr/local/lib/python3.7/dist-packages (from underthesea) (1.0.1)\n",
            "Requirement already satisfied: requests in /usr/local/lib/python3.7/dist-packages (from underthesea) (2.23.0)\n",
            "Collecting transformers<=3.5.1,>=3.5.0\n",
            "\u001b[?25l  Downloading https://files.pythonhosted.org/packages/3a/83/e74092e7f24a08d751aa59b37a9fc572b2e4af3918cb66f7766c3affb1b4/transformers-3.5.1-py3-none-any.whl (1.3MB)\n",
            "\u001b[K     |████████████████████████████████| 1.3MB 45.6MB/s \n",
            "\u001b[?25hRequirement already satisfied: tqdm in /usr/local/lib/python3.7/dist-packages (from underthesea) (4.41.1)\n",
            "Collecting seqeval\n",
            "\u001b[?25l  Downloading https://files.pythonhosted.org/packages/9d/2d/233c79d5b4e5ab1dbf111242299153f3caddddbb691219f363ad55ce783d/seqeval-1.2.2.tar.gz (43kB)\n",
            "\u001b[K     |████████████████████████████████| 51kB 7.5MB/s \n",
            "\u001b[?25hRequirement already satisfied: nltk in /usr/local/lib/python3.7/dist-packages (from underthesea) (3.2.5)\n",
            "Collecting unidecode\n",
            "\u001b[?25l  Downloading https://files.pythonhosted.org/packages/9e/25/723487ca2a52ebcee88a34d7d1f5a4b80b793f179ee0f62d5371938dfa01/Unidecode-1.2.0-py2.py3-none-any.whl (241kB)\n",
            "\u001b[K     |████████████████████████████████| 245kB 56.6MB/s \n",
            "\u001b[?25hRequirement already satisfied: numpy>=1.11.0 in /usr/local/lib/python3.7/dist-packages (from scikit-learn->underthesea) (1.19.5)\n",
            "Requirement already satisfied: scipy>=0.17.0 in /usr/local/lib/python3.7/dist-packages (from scikit-learn->underthesea) (1.4.1)\n",
            "Requirement already satisfied: future in /usr/local/lib/python3.7/dist-packages (from torch<=1.5.1,>=1.1.0->underthesea) (0.16.0)\n",
            "Requirement already satisfied: certifi>=2017.4.17 in /usr/local/lib/python3.7/dist-packages (from requests->underthesea) (2020.12.5)\n",
            "Requirement already satisfied: urllib3!=1.25.0,!=1.25.1,<1.26,>=1.21.1 in /usr/local/lib/python3.7/dist-packages (from requests->underthesea) (1.24.3)\n",
            "Requirement already satisfied: idna<3,>=2.5 in /usr/local/lib/python3.7/dist-packages (from requests->underthesea) (2.10)\n",
            "Requirement already satisfied: chardet<4,>=3.0.2 in /usr/local/lib/python3.7/dist-packages (from requests->underthesea) (3.0.4)\n",
            "Requirement already satisfied: filelock in /usr/local/lib/python3.7/dist-packages (from transformers<=3.5.1,>=3.5.0->underthesea) (3.0.12)\n",
            "Requirement already satisfied: regex!=2019.12.17 in /usr/local/lib/python3.7/dist-packages (from transformers<=3.5.1,>=3.5.0->underthesea) (2019.12.20)\n",
            "Collecting sacremoses\n",
            "\u001b[?25l  Downloading https://files.pythonhosted.org/packages/7d/34/09d19aff26edcc8eb2a01bed8e98f13a1537005d31e95233fd48216eed10/sacremoses-0.0.43.tar.gz (883kB)\n",
            "\u001b[K     |████████████████████████████████| 890kB 58.2MB/s \n",
            "\u001b[?25hRequirement already satisfied: protobuf in /usr/local/lib/python3.7/dist-packages (from transformers<=3.5.1,>=3.5.0->underthesea) (3.12.4)\n",
            "Collecting tokenizers==0.9.3\n",
            "\u001b[?25l  Downloading https://files.pythonhosted.org/packages/7b/ac/f5ba028f0f097d855e1541301e946d4672eb0f30b6e25cb2369075f916d2/tokenizers-0.9.3-cp37-cp37m-manylinux1_x86_64.whl (2.9MB)\n",
            "\u001b[K     |████████████████████████████████| 2.9MB 60.7MB/s \n",
            "\u001b[?25hCollecting sentencepiece==0.1.91\n",
            "\u001b[?25l  Downloading https://files.pythonhosted.org/packages/f2/e2/813dff3d72df2f49554204e7e5f73a3dc0f0eb1e3958a4cad3ef3fb278b7/sentencepiece-0.1.91-cp37-cp37m-manylinux1_x86_64.whl (1.1MB)\n",
            "\u001b[K     |████████████████████████████████| 1.1MB 52.9MB/s \n",
            "\u001b[?25hRequirement already satisfied: packaging in /usr/local/lib/python3.7/dist-packages (from transformers<=3.5.1,>=3.5.0->underthesea) (20.9)\n",
            "Requirement already satisfied: six in /usr/local/lib/python3.7/dist-packages (from nltk->underthesea) (1.15.0)\n",
            "Requirement already satisfied: setuptools in /usr/local/lib/python3.7/dist-packages (from protobuf->transformers<=3.5.1,>=3.5.0->underthesea) (54.1.2)\n",
            "Requirement already satisfied: pyparsing>=2.0.2 in /usr/local/lib/python3.7/dist-packages (from packaging->transformers<=3.5.1,>=3.5.0->underthesea) (2.4.7)\n",
            "Building wheels for collected packages: seqeval, sacremoses\n",
            "  Building wheel for seqeval (setup.py) ... \u001b[?25l\u001b[?25hdone\n",
            "  Created wheel for seqeval: filename=seqeval-1.2.2-cp37-none-any.whl size=16172 sha256=941416426e6195bbb387c532bd749d2333adccf7d6c10c414216d372942b2198\n",
            "  Stored in directory: /root/.cache/pip/wheels/52/df/1b/45d75646c37428f7e626214704a0e35bd3cfc32eda37e59e5f\n",
            "  Building wheel for sacremoses (setup.py) ... \u001b[?25l\u001b[?25hdone\n",
            "  Created wheel for sacremoses: filename=sacremoses-0.0.43-cp37-none-any.whl size=893262 sha256=1d773bec12eb9e00943421f4158e2f2a3e90a4ebf1d37ba0d1a8a1bde68e0d41\n",
            "  Stored in directory: /root/.cache/pip/wheels/29/3c/fd/7ce5c3f0666dab31a50123635e6fb5e19ceb42ce38d4e58f45\n",
            "Successfully built seqeval sacremoses\n",
            "\u001b[31mERROR: torchvision 0.9.0+cu101 has requirement torch==1.8.0, but you'll have torch 1.5.1 which is incompatible.\u001b[0m\n",
            "\u001b[31mERROR: torchtext 0.9.0 has requirement torch==1.8.0, but you'll have torch 1.5.1 which is incompatible.\u001b[0m\n",
            "Installing collected packages: python-crfsuite, torch, sacremoses, tokenizers, sentencepiece, transformers, seqeval, unidecode, underthesea\n",
            "  Found existing installation: torch 1.8.0+cu101\n",
            "    Uninstalling torch-1.8.0+cu101:\n",
            "      Successfully uninstalled torch-1.8.0+cu101\n",
            "Successfully installed python-crfsuite-0.9.7 sacremoses-0.0.43 sentencepiece-0.1.91 seqeval-1.2.2 tokenizers-0.9.3 torch-1.5.1 transformers-3.5.1 underthesea-1.3.1 unidecode-1.2.0\n"
          ],
          "name": "stdout"
        }
      ]
    },
    {
      "cell_type": "code",
      "metadata": {
        "id": "UwXCktYX6dlx"
      },
      "source": [
        "import numpy as np\n",
        "import pandas as pd\n",
        "from sklearn.model_selection import train_test_split\n",
        "from sklearn.svm import SVC\n",
        "from sklearn import metrics\n",
        "from sklearn.feature_extraction.text import CountVectorizer, TfidfTransformer\n",
        "import re\n",
        "import underthesea"
      ],
      "execution_count": 3,
      "outputs": []
    },
    {
      "cell_type": "code",
      "metadata": {
        "id": "awLyHC-p8AbZ"
      },
      "source": [
        "def load_data_from_file(path, is_train=True):\n",
        "  cmt = []\n",
        "  cmts = []\n",
        "  labels = []\n",
        "\n",
        "  check = \"train_\"\n",
        "  if is_train == False:\n",
        "    check = \"test_\"\n",
        "  with open(path, 'r', encoding=\"utf-8\") as file:\n",
        "    for line in file:\n",
        "      if check in line:\n",
        "        continue\n",
        "      if len(line)>2:\n",
        "        cmt.append(line)\n",
        "      elif len(line)==2:\n",
        "        if (line==\"0\\n\" or line==\"1\\n\"):\n",
        "          labels.append(line.replace(\"\\n\", \"\"))\n",
        "          cmts.append(\" \".join(cmt).replace(\"\\n\", \"\"))\n",
        "          cmt = []\n",
        "  return cmts, labels"
      ],
      "execution_count": 4,
      "outputs": []
    },
    {
      "cell_type": "code",
      "metadata": {
        "id": "Jv30EMorFJ_q"
      },
      "source": [
        "X_data, Y_data = load_data_from_file(\"/content/drive/MyDrive/Untitled_folder/SA_demo/train.crash\")"
      ],
      "execution_count": 5,
      "outputs": []
    },
    {
      "cell_type": "code",
      "metadata": {
        "id": "SmeF4JPBIfW9"
      },
      "source": [
        "def text_lowercase(text):\n",
        "  return text.lower()\n",
        "def remove_number(text):\n",
        "  result = re.sub(r'\\d+', '', text) \n",
        "  return result\n",
        "def remove_punctuation(text):\n",
        "  text = text.replace(\",\", \" \").replace(\".\", \" \") \\\n",
        "  .replace(\";\", \" \").replace(\"“\", \" \") \\\n",
        "  .replace(\":\", \" \").replace(\"”\", \" \") \\\n",
        "  .replace('\"', \" \").replace(\"'\", \" \") \\\n",
        "  .replace(\"!\", \" \").replace(\"?\", \" \") \\\n",
        "  .replace(\"-\", \" \").replace(\"?\", \" \") \\\n",
        "  .replace('\"', \" \")\n",
        "  return text\n",
        "def remove_whitespace(text): \n",
        "  return  \" \".join(text.split())\n",
        "def remove_similarletter(text):\n",
        "  text = re.sub(r'([A-Z])\\1+', lambda m: m.group(1).upper(), text, flags=re.IGNORECASE)\n",
        "  return text\n",
        "def VN_Tokenize(text,format='text'):\n",
        "  return underthesea.word_tokenize(text)\n",
        "def remove_VN_stopwords(text):\n",
        "  file_stopwords = pd.read_csv(\"/content/vietnamese-stopwords-dash.txt\", encoding = 'UTF-8')\n",
        "  file_stopwords.columns = [\"Stop_words\"]\n",
        "\n",
        "  VN_stopword = []\n",
        "  for i in file_stopwords[\"Stop_words\"]:\n",
        "    VN_stopword.append(i)\n",
        "        \n",
        "  text_token = VN_Tokenize(text)\n",
        "  result = [word for word in text_token if word not in VN_stopword]\n",
        "  return \" \".join(result)\n",
        "def Util(text):\n",
        "    replace_list = {\n",
        "        'sp': 'sản phẩm', 'san pham': 'sản phẩm', 'k': 'không', 'ko': 'không', 'khong': 'không', 'ok': 'tốt', 'dc': 'được', 'đc': 'được', 'đk': 'được', 'm': 'mình', 'mik': 'mình',\n",
        "        'toẹt': 'tuyệt', 'cám ơn': 'cảm ơn', 'thanks': 'cảm ơn', 'tks': 'cảm ơn', 'ship': 'giao hàng', 'shop': 'cửa hàng', 'sop': 'cửa hàng', 'sd': 'sử dụng', 'tl': 'trả lời',\n",
        "        'lém': 'lắm','sale': 'giảm giá','tt': 'thanh toán','yc': 'yêu cầu','đt': 'điện thoại', 'qc': 'quảng cáo', 'kq': 'kết quả', 'update': 'cập nhật', 'ns': 'nói', 'rep': 'trả lời',\n",
        "        'tn': 'tin nhắn', 'wa': 'quá', 'wá': 'quá', 'hag': 'hàng', 'hàg': 'hàng','kt': 'kiểm tra', 'bit': 'biết', 'trc': 'trước', 'mn': 'mọi người', 'sz': 'kích thước', \n",
        "        'size': 'kích thước', 'kh': 'khách hàng', 'nv': 'nhân viên', \n",
        "        'T^T': 'negative',  ':((': 'negative', '❤️': 'positive', '😘': 'positive', '<3': 'positive', '😋': 'positive', '💋': 'positive', '🎉': 'positive', '💯': 'positive',\n",
        "        '👍🏻': 'positive', '😡': 'negative', '😁': 'positive', '😍': 'positive', '💕': 'positive', '💙': 'positive', '😗': 'positive', '👌🏻': 'positive', '🤙🏻': 'positive',\n",
        "        '👎': 'negative', '😓': 'negative', '♥️': 'positive'\n",
        "    }\n",
        "    text = text.split()\n",
        "    len_ = len(text)\n",
        "    for i in range(0, len_):    \n",
        "      for k, v in replace_list.items():\n",
        "        if (text[i]==k):\n",
        "          text[i] = v\n",
        "    return \" \".join(text)"
      ],
      "execution_count": 6,
      "outputs": []
    },
    {
      "cell_type": "code",
      "metadata": {
        "id": "w3Md2VyWo4w9"
      },
      "source": [
        "def Text_PreProcessing_util(data):\n",
        "  result_2 = []\n",
        "  for i in data:\n",
        "    i = str(i)\n",
        "    text = text_lowercase(i)\n",
        "    text=Util(text)\n",
        "    text = remove_similarletter(text)\n",
        "    text = remove_number(text)\n",
        "    text = remove_punctuation(text)\n",
        "    text = remove_whitespace(text)\n",
        "    text = remove_VN_stopwords(text)\n",
        "    result_2.append(text)\n",
        "  return result_2"
      ],
      "execution_count": 7,
      "outputs": []
    },
    {
      "cell_type": "code",
      "metadata": {
        "id": "RtSgGsiwpCpU"
      },
      "source": [
        "X_data = Text_PreProcessing_util(X_data)"
      ],
      "execution_count": 42,
      "outputs": []
    },
    {
      "cell_type": "code",
      "metadata": {
        "id": "RxnA-ce1p-YH"
      },
      "source": [
        "from sklearn.feature_extraction.text import TfidfVectorizer"
      ],
      "execution_count": 10,
      "outputs": []
    },
    {
      "cell_type": "code",
      "metadata": {
        "id": "oESy7xxQp45R"
      },
      "source": [
        "vectorizer_2 = TfidfVectorizer(max_df=0.5)\n",
        "vectorizer_2.fit(X_data)\n",
        "X_data_tfidf = vectorizer_2.transform(X_data).toarray()"
      ],
      "execution_count": 11,
      "outputs": []
    },
    {
      "cell_type": "code",
      "metadata": {
        "id": "W9VOAAg_-phT"
      },
      "source": [
        "from sklearn.linear_model import LogisticRegression"
      ],
      "execution_count": 12,
      "outputs": []
    },
    {
      "cell_type": "code",
      "metadata": {
        "id": "iWTHZz_R_nvH"
      },
      "source": [
        "Y_data = [int(i) for i in Y_data]"
      ],
      "execution_count": 13,
      "outputs": []
    },
    {
      "cell_type": "code",
      "metadata": {
        "id": "UMQQtThQCZCN"
      },
      "source": [
        "X_train, X_test_1, y_train, y_test_1 = train_test_split(X_data_tfidf, Y_data, test_size=0.2)"
      ],
      "execution_count": 14,
      "outputs": []
    },
    {
      "cell_type": "code",
      "metadata": {
        "colab": {
          "base_uri": "https://localhost:8080/"
        },
        "id": "BF51B-n8qI-8",
        "outputId": "4b2e3423-4767-497f-bf35-a8df5f727dbd"
      },
      "source": [
        "model_4 = LogisticRegression()\n",
        "model_4.fit(X_train, y_train)\n",
        "print(\"Model Logistic Regression\")\n",
        "print(\"Train score: \", model_4.score(X_train, y_train))\n",
        "print(\"Test score: \", model_4.score(X_test_1, y_test_1))"
      ],
      "execution_count": 15,
      "outputs": [
        {
          "output_type": "stream",
          "text": [
            "Model Logistic Regression\n",
            "Train score:  0.9031004740073044\n",
            "Test score:  0.8694841516469857\n"
          ],
          "name": "stdout"
        }
      ]
    },
    {
      "cell_type": "code",
      "metadata": {
        "id": "MhKNvr3gDUHH"
      },
      "source": [
        "y_pred_1 = model_4.predict(X_test_1)"
      ],
      "execution_count": 16,
      "outputs": []
    },
    {
      "cell_type": "code",
      "metadata": {
        "colab": {
          "base_uri": "https://localhost:8080/",
          "height": 348
        },
        "id": "A0rXP0VIDJlF",
        "outputId": "1595a855-76f6-45eb-eab8-f016ef7f49c2"
      },
      "source": [
        "import matplotlib.pyplot as plt\n",
        "from sklearn.metrics import confusion_matrix\n",
        "\n",
        "def plot_confusion_matrix(cm, classes,\n",
        "                          normalize=False,\n",
        "                          title='Confusion matrix',\n",
        "                          cmap=plt.cm.Blues):\n",
        "    \"\"\"\n",
        "    This function prints and plots the confusion matrix.\n",
        "    Normalization can be applied by setting `normalize=True`.\n",
        "    \"\"\"\n",
        "    import itertools\n",
        "    if normalize:\n",
        "        cm = cm.astype('float') / cm.sum(axis=1)[:, np.newaxis]\n",
        "        print(\"Normalized confusion matrix\")\n",
        "    else:\n",
        "        print('Confusion matrix, without normalization')\n",
        "\n",
        "    print(cm)\n",
        "\n",
        "    plt.imshow(cm, interpolation='nearest', cmap=cmap)\n",
        "    plt.title(title)\n",
        "    plt.colorbar()\n",
        "    tick_marks = np.arange(len(classes))\n",
        "    plt.xticks(tick_marks, classes, rotation=45)\n",
        "    plt.yticks(tick_marks, classes)\n",
        "\n",
        "    fmt = '.2f' if normalize else 'd'\n",
        "    thresh = cm.max() / 2.\n",
        "    for i, j in itertools.product(range(cm.shape[0]), range(cm.shape[1])):\n",
        "        plt.text(j, i, format(cm[i, j], fmt),\n",
        "                 horizontalalignment=\"center\",\n",
        "                 color=\"white\" if cm[i, j] > thresh else \"black\")\n",
        "\n",
        "    plt.ylabel('True label')\n",
        "    plt.xlabel('Predicted label')\n",
        "    plt.tight_layout()\n",
        "  \n",
        "cnf_matrix = confusion_matrix(y_test_1, y_pred_1, labels=[0, 1])\n",
        "np.set_printoptions(precision=2)\n",
        "\n",
        "# Plot non-normalized confusion matrix\n",
        "plt.figure()\n",
        "plot_confusion_matrix(cnf_matrix, classes=[0, 1],\n",
        "                      title='Confusion matrix, without normalization')"
      ],
      "execution_count": 17,
      "outputs": [
        {
          "output_type": "stream",
          "text": [
            "Confusion matrix, without normalization\n",
            "[[1573  265]\n",
            " [ 155 1225]]\n"
          ],
          "name": "stdout"
        },
        {
          "output_type": "display_data",
          "data": {
            "image/png": "[encoded data removed]",
            "text/plain": [
              "<Figure size 432x288 with 2 Axes>"
            ]
          },
          "metadata": {
            "tags": [],
            "needs_background": "light"
          }
        }
      ]
    },
    {
      "cell_type": "code",
      "metadata": {
        "colab": {
          "base_uri": "https://localhost:8080/"
        },
        "id": "0WQiqP_3gCgs",
        "outputId": "03bbd44c-ff20-4739-8b47-6ee7c676aa98"
      },
      "source": [
        "from sklearn.metrics import f1_score\n",
        "print(\"F1 score\",f1_score(y_test_1, y_pred_1, average = 'macro'))"
      ],
      "execution_count": 18,
      "outputs": [
        {
          "output_type": "stream",
          "text": [
            "F1 score 0.8679397562343543\n"
          ],
          "name": "stdout"
        }
      ]
    },
    {
      "cell_type": "code",
      "metadata": {
        "colab": {
          "base_uri": "https://localhost:8080/"
        },
        "id": "HSnbTV42EqW7",
        "outputId": "0034faea-c769-4c22-fc67-797731c41452"
      },
      "source": [
        "from sklearn.naive_bayes import MultinomialNB\n",
        "model_5 = MultinomialNB()\n",
        "model_5.fit(X_train, y_train)\n",
        "print(\"Model Naive Bayes\")\n",
        "print(\"Train score: \", model_5.score(X_train, y_train))\n",
        "print(\"Test score: \", model_5.score(X_test_1, y_test_1))"
      ],
      "execution_count": 19,
      "outputs": [
        {
          "output_type": "stream",
          "text": [
            "Model Naive Bayes\n",
            "Train score:  0.882741471753827\n",
            "Test score:  0.843691733996271\n"
          ],
          "name": "stdout"
        }
      ]
    },
    {
      "cell_type": "code",
      "metadata": {
        "id": "nXgbeFqfGI8E"
      },
      "source": [
        "y_pred_2 = model_5.predict(X_test_1)"
      ],
      "execution_count": 20,
      "outputs": []
    },
    {
      "cell_type": "code",
      "metadata": {
        "colab": {
          "base_uri": "https://localhost:8080/",
          "height": 348
        },
        "id": "SK9P3PLVHdMJ",
        "outputId": "c7c7c645-bd1c-401e-e964-fa74ec73ce3b"
      },
      "source": [
        "cnf_matrix_2 = confusion_matrix(y_test_1, y_pred_2, labels=[0, 1])\n",
        "np.set_printoptions(precision=2)\n",
        "\n",
        "# Plot non-normalized confusion matrix\n",
        "plt.figure()\n",
        "plot_confusion_matrix(cnf_matrix_2, classes=[0, 1],\n",
        "                      title='Confusion matrix, without normalization')"
      ],
      "execution_count": 21,
      "outputs": [
        {
          "output_type": "stream",
          "text": [
            "Confusion matrix, without normalization\n",
            "[[1599  239]\n",
            " [ 264 1116]]\n"
          ],
          "name": "stdout"
        },
        {
          "output_type": "display_data",
          "data": {
            "image/png": "[encoded data removed]",
            "text/plain": [
              "<Figure size 432x288 with 2 Axes>"
            ]
          },
          "metadata": {
            "tags": [],
            "needs_background": "light"
          }
        }
      ]
    },
    {
      "cell_type": "code",
      "metadata": {
        "id": "72RNJjo_gUcn",
        "colab": {
          "base_uri": "https://localhost:8080/"
        },
        "outputId": "9c0fa5ef-fb4d-402e-e346-acef41287e51"
      },
      "source": [
        "print(\"F1 score\",f1_score(y_test_1, y_pred_2, average = 'macro'))"
      ],
      "execution_count": 22,
      "outputs": [
        {
          "output_type": "stream",
          "text": [
            "F1 score 0.8400892688225475\n"
          ],
          "name": "stdout"
        }
      ]
    },
    {
      "cell_type": "code",
      "metadata": {
        "id": "WUXymSdmM4og"
      },
      "source": [
        "from numpy import array\n",
        "from keras.preprocessing.text import one_hot\n",
        "from keras.preprocessing.sequence import pad_sequences\n",
        "from keras.models import Sequential\n",
        "from keras.layers.core import Activation, Dropout, Dense\n",
        "from keras.layers import Flatten, LSTM\n",
        "from keras.layers import GlobalMaxPooling1D\n",
        "from keras.models import Model\n",
        "from keras.layers.embeddings import Embedding\n",
        "from sklearn.model_selection import train_test_split\n",
        "from keras.preprocessing.text import Tokenizer\n",
        "from keras.layers import Input\n",
        "from keras.layers.merge import Concatenate"
      ],
      "execution_count": 23,
      "outputs": []
    },
    {
      "cell_type": "code",
      "metadata": {
        "id": "T4rAsEmmO6Qy"
      },
      "source": [
        "X_train_2, X_test_2, y_train_2, y_test_2 = train_test_split(X_data, Y_data, test_size=0.2)"
      ],
      "execution_count": 43,
      "outputs": []
    },
    {
      "cell_type": "code",
      "metadata": {
        "id": "IV6FX1nrONXp"
      },
      "source": [
        "tokenizer = Tokenizer(num_words=8000)\n",
        "tokenizer.fit_on_texts(X_data)\n",
        "\n",
        "X_train_2 = tokenizer.texts_to_sequences(X_train_2)\n",
        "X_test_2 = tokenizer.texts_to_sequences(X_test_2)\n",
        "\n",
        "vocab_size = len(tokenizer.word_index) + 1\n",
        "\n",
        "maxlen = 200\n",
        "\n",
        "X_train_2 = pad_sequences(X_train_2, padding='post', maxlen=maxlen)\n",
        "X_test_2 = pad_sequences(X_test_2, padding='post', maxlen=maxlen)\n",
        "from numpy import asarray\n",
        "from numpy import zeros\n",
        "\n",
        "embeddings_dictionary = dict()\n",
        "\n",
        "glove_file = open('/content/drive/MyDrive/Untitled_folder/glove.6B.100d.txt', encoding=\"utf8\")\n",
        "\n",
        "for line in glove_file:\n",
        "    records = line.split()\n",
        "    word = records[0]\n",
        "    vector_dimensions = asarray(records[1:], dtype='float32')\n",
        "    embeddings_dictionary[word] = vector_dimensions\n",
        "glove_file.close()\n",
        "\n",
        "embedding_matrix = zeros((vocab_size, 100))\n",
        "for word, index in tokenizer.word_index.items():\n",
        "    embedding_vector = embeddings_dictionary.get(word)\n",
        "    if embedding_vector is not None:\n",
        "        embedding_matrix[index] = embedding_vector"
      ],
      "execution_count": 44,
      "outputs": []
    },
    {
      "cell_type": "code",
      "metadata": {
        "id": "55QBBxUwPJDg"
      },
      "source": [
        "deep_inputs = Input(shape=(maxlen,))\n",
        "embedding_layer = Embedding(vocab_size, 100, weights=[embedding_matrix], trainable=False)(deep_inputs)\n",
        "LSTM_Layer_1 = LSTM(128)(embedding_layer)\n",
        "output1 = Dense(1, activation='tanh')(LSTM_Layer_1)\n",
        "\n",
        "model = Model(inputs=deep_inputs, outputs=output1)\n",
        "\n",
        "model.compile(loss='binary_crossentropy', optimizer='SGD', metrics=['acc'])"
      ],
      "execution_count": 45,
      "outputs": []
    },
    {
      "cell_type": "code",
      "metadata": {
        "colab": {
          "base_uri": "https://localhost:8080/"
        },
        "id": "zocqEdE_PMXB",
        "outputId": "22a3d3e2-b500-4755-a745-366b473f4d0a"
      },
      "source": [
        "print(model.summary())"
      ],
      "execution_count": 46,
      "outputs": [
        {
          "output_type": "stream",
          "text": [
            "Model: \"model_3\"\n",
            "_________________________________________________________________\n",
            "Layer (type)                 Output Shape              Param #   \n",
            "=================================================================\n",
            "input_4 (InputLayer)         [(None, 200)]             0         \n",
            "_________________________________________________________________\n",
            "embedding_3 (Embedding)      (None, 200, 100)          750200    \n",
            "_________________________________________________________________\n",
            "lstm_3 (LSTM)                (None, 128)               117248    \n",
            "_________________________________________________________________\n",
            "dense_3 (Dense)              (None, 1)                 129       \n",
            "=================================================================\n",
            "Total params: 867,577\n",
            "Trainable params: 117,377\n",
            "Non-trainable params: 750,200\n",
            "_________________________________________________________________\n",
            "None\n"
          ],
          "name": "stdout"
        }
      ]
    },
    {
      "cell_type": "code",
      "metadata": {
        "id": "FmbYmQSsP24h"
      },
      "source": [
        "y_train_2 = np.array(y_train_2)"
      ],
      "execution_count": 47,
      "outputs": []
    },
    {
      "cell_type": "code",
      "metadata": {
        "colab": {
          "base_uri": "https://localhost:8080/"
        },
        "id": "wWR7vOr2PODw",
        "outputId": "be700b38-71fa-4a02-b851-53f2b139c7fc"
      },
      "source": [
        "history = model.fit(X_train_2, y_train_2, batch_size=32, epochs=10, verbose=1, validation_split=0.2)"
      ],
      "execution_count": 48,
      "outputs": [
        {
          "output_type": "stream",
          "text": [
            "Epoch 1/10\n",
            "322/322 [==============================] - 59s 178ms/step - loss: 2.4396 - acc: 0.5767 - val_loss: 0.6853 - val_acc: 0.5719\n",
            "Epoch 2/10\n",
            "322/322 [==============================] - 55s 172ms/step - loss: 0.6817 - acc: 0.5803 - val_loss: 0.6842 - val_acc: 0.5719\n",
            "Epoch 3/10\n",
            "322/322 [==============================] - 56s 175ms/step - loss: 0.6817 - acc: 0.5786 - val_loss: 0.6834 - val_acc: 0.5719\n",
            "Epoch 4/10\n",
            "322/322 [==============================] - 56s 175ms/step - loss: 0.6830 - acc: 0.5745 - val_loss: 0.6831 - val_acc: 0.5719\n",
            "Epoch 5/10\n",
            "322/322 [==============================] - 56s 174ms/step - loss: 0.6802 - acc: 0.5831 - val_loss: 0.6829 - val_acc: 0.5719\n",
            "Epoch 6/10\n",
            "322/322 [==============================] - 57s 176ms/step - loss: 0.6800 - acc: 0.5824 - val_loss: 0.6829 - val_acc: 0.5719\n",
            "Epoch 7/10\n",
            "322/322 [==============================] - 57s 176ms/step - loss: 0.6806 - acc: 0.5822 - val_loss: 0.6850 - val_acc: 0.5719\n",
            "Epoch 8/10\n",
            "322/322 [==============================] - 56s 174ms/step - loss: 0.6820 - acc: 0.5789 - val_loss: 0.6828 - val_acc: 0.5719\n",
            "Epoch 9/10\n",
            "322/322 [==============================] - 57s 176ms/step - loss: 0.6838 - acc: 0.5711 - val_loss: 0.6832 - val_acc: 0.5719\n",
            "Epoch 10/10\n",
            "322/322 [==============================] - 57s 176ms/step - loss: 0.6823 - acc: 0.5760 - val_loss: 0.6836 - val_acc: 0.5719\n"
          ],
          "name": "stdout"
        }
      ]
    },
    {
      "cell_type": "code",
      "metadata": {
        "id": "lqPh0RKhTxlB"
      },
      "source": [
        "y_test_2 = np.array(y_test_2)"
      ],
      "execution_count": 49,
      "outputs": []
    },
    {
      "cell_type": "code",
      "metadata": {
        "colab": {
          "base_uri": "https://localhost:8080/"
        },
        "id": "NW3uVNMoTr1S",
        "outputId": "d9a3af0b-6ad8-47ee-c8d6-09df35534d73"
      },
      "source": [
        "score = model.evaluate(X_test_2, y_test_2, verbose=1)\n",
        "\n",
        "print(\"Test Score:\", score[0])\n",
        "print(\"Test Accuracy:\", score[1])"
      ],
      "execution_count": 50,
      "outputs": [
        {
          "output_type": "stream",
          "text": [
            "101/101 [==============================] - 5s 50ms/step - loss: 0.6814 - acc: 0.5777\n",
            "Test Score: 0.6814204454421997\n",
            "Test Accuracy: 0.5776879787445068\n"
          ],
          "name": "stdout"
        }
      ]
    }
  ]
}